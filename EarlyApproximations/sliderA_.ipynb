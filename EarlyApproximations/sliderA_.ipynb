{
  "nbformat": 4,
  "nbformat_minor": 0,
  "metadata": {
    "colab": {
      "name": "sliderA*.ipynb",
      "provenance": [],
      "collapsed_sections": []
    },
    "kernelspec": {
      "name": "python3",
      "display_name": "Python 3"
    }
  },
  "cells": [
    {
      "cell_type": "code",
      "metadata": {
        "id": "qWL7GVJEDfAa",
        "colab_type": "code",
        "colab": {}
      },
      "source": [
        "#libraries to be used\n",
        "import numpy as np\n",
        "import math\n",
        "import copy\n",
        "from queue import PriorityQueue\n"
      ],
      "execution_count": 0,
      "outputs": []
    },
    {
      "cell_type": "code",
      "metadata": {
        "id": "SgfuDRs1-vBM",
        "colab_type": "code",
        "colab": {}
      },
      "source": [
        "#Grid class with all tiles positions and exact distance from\n",
        "#the start (gVal) and estimate distance to the goal plus gVal (fVal)\n",
        "class gridObj:\n",
        "  def __init__(self,tiles,index,gVal,fVal):\n",
        "    self.tiles = tiles\n",
        "    self.index = index\n",
        "    self.gVal = gVal\n",
        "    self.fVal = fVal\n"
      ],
      "execution_count": 0,
      "outputs": []
    },
    {
      "cell_type": "code",
      "metadata": {
        "id": "y8OZFF9GWa85",
        "colab_type": "code",
        "colab": {}
      },
      "source": [
        "#Creates a grid if it doesn't exist already and add it to the list of grids, else return the existing grid \n",
        "def createGrid(current,gVal,fVal,grids):\n",
        "  if len(grids)>0:\n",
        "    for i in grids:\n",
        "      if ((i.tiles==current).all()):\n",
        "        return i\n",
        "  tempGrid = gridObj(current,len(grids),gVal,fVal) #fix this\n",
        "  grids.append(tempGrid)\n",
        "  return tempGrid\n",
        "\n"
      ],
      "execution_count": 0,
      "outputs": []
    },
    {
      "cell_type": "code",
      "metadata": {
        "id": "hsk6Yc9kB06L",
        "colab_type": "code",
        "colab": {}
      },
      "source": [
        "#This function takes the value of a grid position and \n",
        "# return an npArray with the proper position in the goal Grid \n",
        "def valToPos(val):\n",
        "    pos = np.zeros((2))\n",
        "    if val <= 3 :\n",
        "      x = 0\n",
        "      y = val -1\n",
        "    elif val <= 6 :\n",
        "      x = 1\n",
        "      y = val -4\n",
        "    else:\n",
        "      x = 2\n",
        "      y = val - 7\n",
        "    pos[1] = int (x)\n",
        "    pos[1] = int (y)\n",
        "    return pos"
      ],
      "execution_count": 0,
      "outputs": []
    },
    {
      "cell_type": "code",
      "metadata": {
        "id": "9XlTp-FSbiWa",
        "colab_type": "code",
        "colab": {}
      },
      "source": [
        "def returnEmpty(grid):\n",
        "  empty = np.zeros((2))\n",
        "  for i in range(0,3):\n",
        "    for j in range(0,3):\n",
        "      if (grid[i,j]==0):\n",
        "        empty[0] = i\n",
        "        empty[1] = j\n",
        "        return empty #Esa linea equivale a un break\n",
        "  return empty"
      ],
      "execution_count": 0,
      "outputs": []
    },
    {
      "cell_type": "code",
      "metadata": {
        "id": "UDSDlx0EZ6vS",
        "colab_type": "code",
        "colab": {}
      },
      "source": [
        "#return a list of the neighbors for a grid, creates the necessary grids also\n",
        "def neighbors (grid,gVal,grids):\n",
        "  empty = returnEmpty(grid) #Get the position of the empty spot \n",
        "  x = empty[0]\n",
        "  y = empty[1]\n",
        "  x = int(x)\n",
        "  y = int(y)\n",
        "  neighbors = []\n",
        "  \n",
        "  if (x+1<3):\n",
        "    tempGrid = np.copy(grid) #copy the current grid\n",
        "    tempPos = grid[x+1,y] #Save one of the positions to change\n",
        "    tempGrid[x+1,y] = tempGrid[x,y] #change the value of the position saved before\n",
        "    tempGrid[x,y] = tempPos #Change the value of the other position\n",
        "    neighbors.append(createGrid(tempGrid, gVal+1, heurDist(tempGrid), grids))\n",
        "  if (x-1>=0):\n",
        "    tempGrid = np.copy(grid) #copy the current grid\n",
        "    tempPos = grid[x-1,y] #Save one of the positions to change\n",
        "    tempGrid[x-1,y] = tempGrid[x,y] #change the value of the position saved before\n",
        "    tempGrid[x,y] = tempPos #Change the value of the other position\n",
        "    neighbors.append(createGrid(tempGrid,gVal+1,heurDist(tempGrid), grids))\n",
        "  if (y+1<3):\n",
        "    tempGrid = np.copy(grid) #copy the current grid\n",
        "    tempPos = grid[x,y+1] #Save one of the positions to change\n",
        "    tempGrid[x,y+1] = tempGrid[x,y] #change the value of the position saved before\n",
        "    tempGrid[x,y] = tempPos #Change the value of the other position\n",
        "    neighbors.append(createGrid(tempGrid,gVal+1,heurDist(tempGrid), grids))\n",
        "  if (y-1>=0):\n",
        "    tempGrid = np.copy(grid) #copy the current grid\n",
        "    tempPos = grid[x,y-1] #Save one of the positions to change\n",
        "    tempGrid[x,y-1] = tempGrid[x,y] #change the value of the position saved before\n",
        "    tempGrid[x,y] = tempPos #Change the value of the other position\n",
        "    neighbors.append(createGrid(tempGrid,gVal+1,heurDist(tempGrid), grids))\n",
        "  return neighbors\n"
      ],
      "execution_count": 0,
      "outputs": []
    },
    {
      "cell_type": "code",
      "metadata": {
        "id": "imN--cVWCGTU",
        "colab_type": "code",
        "colab": {}
      },
      "source": [
        "#iterates through the grid and accumulate the distance between\n",
        "#every tile in the current grid to the correct tile position in the final grid\n",
        "def heurDist(grid):\n",
        "  dist = 0\n",
        "  for i in range(0,3):\n",
        "    for j in range(0,3):\n",
        "      pos = valToPos(grid[i,j])\n",
        "      dist = dist + (abs(pos[0]-i) + abs(pos[1]-j))\n",
        "  return dist"
      ],
      "execution_count": 0,
      "outputs": []
    },
    {
      "cell_type": "code",
      "metadata": {
        "id": "X6JobvLF36Ym",
        "colab_type": "code",
        "colab": {}
      },
      "source": [
        "#function to find an npArray element on a list \n",
        "def notInfindList(element,listF):\n",
        "  for obj in listF.queue:\n",
        "    if ((element==obj[0].tiles).all()):\n",
        "      return False\n",
        "  return True"
      ],
      "execution_count": 0,
      "outputs": []
    },
    {
      "cell_type": "code",
      "metadata": {
        "id": "Elx1PdGMFPx8",
        "colab_type": "code",
        "colab": {}
      },
      "source": [
        "def a_star_search(start, goal, grids):\n",
        "  frontier = PriorityQueue() #PriorityQueue with the unexplored grids\n",
        "  priority = start.gVal + start.fVal\n",
        "  frontier.put((start, priority)) #First value of the frontier is the first grid\n",
        "  cameFrom = [] #The index of a position in cameFrom indicates the referenced grid, the value in that index position is the index to the grid which current came from \n",
        "  currentCost = [] #Index in currentCost refers to a grid Index, the value in that index of the list is the distance from the starter grid.\n",
        "  cameFrom.insert(start.index,0)\n",
        "  currentCost.insert(start.index,0)\n",
        "  steps = 1\n",
        "  while frontier.qsize() != 0 :\n",
        "    current = frontier.get() #get the grid with the lowest fVal \n",
        "    priority = current[0].gVal + current[0].fVal\n",
        "    frontier.put((current[0], priority))\n",
        "    if (current[0].tiles==goal).all() :\n",
        "      return cameFrom\n",
        "    \n",
        "    #create the list of neighbors\n",
        "    neighborList = neighbors(current[0].tiles, current[0].gVal, grids)\n",
        "    #iterate through neighbors to find the best path\n",
        "    for neighbor in neighborList:\n",
        "      newCost = current[0].gVal + 1\n",
        "      if (notInfindList(neighbor, frontier) or newCost < neighbor.gVal): #correct the use of findList \n",
        "        currentCost.insert(steps,newCost)\n",
        "        priority = newCost + heurDist(neighbor.tiles)\n",
        "        element = copy.deepcopy(neighbor)\n",
        "        frontier.put((element, priority))\n",
        "        cameFrom.insert(steps,current[1])\n",
        "    \n",
        "    print(cameFrom)\n",
        "\n",
        "  \n",
        "  return []\n",
        "        \n",
        "      \n",
        "    \n",
        "    "
      ],
      "execution_count": 0,
      "outputs": []
    },
    {
      "cell_type": "code",
      "metadata": {
        "id": "6TMU6NzdDTTl",
        "colab_type": "code",
        "outputId": "1f9654fb-4d83-4481-ec22-b17eccf1ae84",
        "colab": {
          "base_uri": "https://localhost:8080/",
          "height": 346
        }
      },
      "source": [
        "global index \n",
        "index = 0\n",
        "grids = []\n",
        "grid =np.array([[6, 4, 2],[7, 3, 1],[8, 5, 0],])\n",
        "goal =np.array([[1, 2, 3],[4, 5, 6],[7, 8, 0],])\n",
        "createGrid(grid, 0, heurDist(grid), grids)\n",
        "a_star_search(grids[0], goal,grids)"
      ],
      "execution_count": 103,
      "outputs": [
        {
          "output_type": "error",
          "ename": "TypeError",
          "evalue": "ignored",
          "traceback": [
            "\u001b[0;31m---------------------------------------------------------------------------\u001b[0m",
            "\u001b[0;31mTypeError\u001b[0m                                 Traceback (most recent call last)",
            "\u001b[0;32m<ipython-input-103-fc34846425e6>\u001b[0m in \u001b[0;36m<module>\u001b[0;34m()\u001b[0m\n\u001b[1;32m      5\u001b[0m \u001b[0mgoal\u001b[0m \u001b[0;34m=\u001b[0m\u001b[0mnp\u001b[0m\u001b[0;34m.\u001b[0m\u001b[0marray\u001b[0m\u001b[0;34m(\u001b[0m\u001b[0;34m[\u001b[0m\u001b[0;34m[\u001b[0m\u001b[0;36m1\u001b[0m\u001b[0;34m,\u001b[0m \u001b[0;36m2\u001b[0m\u001b[0;34m,\u001b[0m \u001b[0;36m3\u001b[0m\u001b[0;34m]\u001b[0m\u001b[0;34m,\u001b[0m\u001b[0;34m[\u001b[0m\u001b[0;36m4\u001b[0m\u001b[0;34m,\u001b[0m \u001b[0;36m5\u001b[0m\u001b[0;34m,\u001b[0m \u001b[0;36m6\u001b[0m\u001b[0;34m]\u001b[0m\u001b[0;34m,\u001b[0m\u001b[0;34m[\u001b[0m\u001b[0;36m7\u001b[0m\u001b[0;34m,\u001b[0m \u001b[0;36m8\u001b[0m\u001b[0;34m,\u001b[0m \u001b[0;36m0\u001b[0m\u001b[0;34m]\u001b[0m\u001b[0;34m,\u001b[0m\u001b[0;34m]\u001b[0m\u001b[0;34m)\u001b[0m\u001b[0;34m\u001b[0m\u001b[0;34m\u001b[0m\u001b[0m\n\u001b[1;32m      6\u001b[0m \u001b[0mcreateGrid\u001b[0m\u001b[0;34m(\u001b[0m\u001b[0mgrid\u001b[0m\u001b[0;34m,\u001b[0m \u001b[0;36m0\u001b[0m\u001b[0;34m,\u001b[0m \u001b[0mheurDist\u001b[0m\u001b[0;34m(\u001b[0m\u001b[0mgrid\u001b[0m\u001b[0;34m)\u001b[0m\u001b[0;34m,\u001b[0m \u001b[0mgrids\u001b[0m\u001b[0;34m)\u001b[0m\u001b[0;34m\u001b[0m\u001b[0;34m\u001b[0m\u001b[0m\n\u001b[0;32m----> 7\u001b[0;31m \u001b[0ma_star_search\u001b[0m\u001b[0;34m(\u001b[0m\u001b[0mgrids\u001b[0m\u001b[0;34m[\u001b[0m\u001b[0;36m0\u001b[0m\u001b[0;34m]\u001b[0m\u001b[0;34m,\u001b[0m \u001b[0mgoal\u001b[0m\u001b[0;34m,\u001b[0m\u001b[0mgrids\u001b[0m\u001b[0;34m)\u001b[0m\u001b[0;34m\u001b[0m\u001b[0;34m\u001b[0m\u001b[0m\n\u001b[0m",
            "\u001b[0;32m<ipython-input-99-da5e73452ef6>\u001b[0m in \u001b[0;36ma_star_search\u001b[0;34m(start, goal, grids)\u001b[0m\n\u001b[1;32m     24\u001b[0m         \u001b[0mpriority\u001b[0m \u001b[0;34m=\u001b[0m \u001b[0mnewCost\u001b[0m \u001b[0;34m+\u001b[0m \u001b[0mheurDist\u001b[0m\u001b[0;34m(\u001b[0m\u001b[0mneighbor\u001b[0m\u001b[0;34m.\u001b[0m\u001b[0mtiles\u001b[0m\u001b[0;34m)\u001b[0m\u001b[0;34m\u001b[0m\u001b[0;34m\u001b[0m\u001b[0m\n\u001b[1;32m     25\u001b[0m         \u001b[0melement\u001b[0m \u001b[0;34m=\u001b[0m \u001b[0mcopy\u001b[0m\u001b[0;34m.\u001b[0m\u001b[0mdeepcopy\u001b[0m\u001b[0;34m(\u001b[0m\u001b[0mneighbor\u001b[0m\u001b[0;34m)\u001b[0m\u001b[0;34m\u001b[0m\u001b[0;34m\u001b[0m\u001b[0m\n\u001b[0;32m---> 26\u001b[0;31m         \u001b[0mfrontier\u001b[0m\u001b[0;34m.\u001b[0m\u001b[0mput\u001b[0m\u001b[0;34m(\u001b[0m\u001b[0;34m(\u001b[0m\u001b[0melement\u001b[0m\u001b[0;34m,\u001b[0m \u001b[0mpriority\u001b[0m\u001b[0;34m)\u001b[0m\u001b[0;34m)\u001b[0m\u001b[0;34m\u001b[0m\u001b[0;34m\u001b[0m\u001b[0m\n\u001b[0m\u001b[1;32m     27\u001b[0m         \u001b[0mcameFrom\u001b[0m\u001b[0;34m.\u001b[0m\u001b[0minsert\u001b[0m\u001b[0;34m(\u001b[0m\u001b[0msteps\u001b[0m\u001b[0;34m,\u001b[0m\u001b[0mcurrent\u001b[0m\u001b[0;34m[\u001b[0m\u001b[0;36m1\u001b[0m\u001b[0;34m]\u001b[0m\u001b[0;34m)\u001b[0m\u001b[0;34m\u001b[0m\u001b[0;34m\u001b[0m\u001b[0m\n\u001b[1;32m     28\u001b[0m \u001b[0;34m\u001b[0m\u001b[0m\n",
            "\u001b[0;32m/usr/lib/python3.6/queue.py\u001b[0m in \u001b[0;36mput\u001b[0;34m(self, item, block, timeout)\u001b[0m\n\u001b[1;32m    141\u001b[0m                             \u001b[0;32mraise\u001b[0m \u001b[0mFull\u001b[0m\u001b[0;34m\u001b[0m\u001b[0;34m\u001b[0m\u001b[0m\n\u001b[1;32m    142\u001b[0m                         \u001b[0mself\u001b[0m\u001b[0;34m.\u001b[0m\u001b[0mnot_full\u001b[0m\u001b[0;34m.\u001b[0m\u001b[0mwait\u001b[0m\u001b[0;34m(\u001b[0m\u001b[0mremaining\u001b[0m\u001b[0;34m)\u001b[0m\u001b[0;34m\u001b[0m\u001b[0;34m\u001b[0m\u001b[0m\n\u001b[0;32m--> 143\u001b[0;31m             \u001b[0mself\u001b[0m\u001b[0;34m.\u001b[0m\u001b[0m_put\u001b[0m\u001b[0;34m(\u001b[0m\u001b[0mitem\u001b[0m\u001b[0;34m)\u001b[0m\u001b[0;34m\u001b[0m\u001b[0;34m\u001b[0m\u001b[0m\n\u001b[0m\u001b[1;32m    144\u001b[0m             \u001b[0mself\u001b[0m\u001b[0;34m.\u001b[0m\u001b[0munfinished_tasks\u001b[0m \u001b[0;34m+=\u001b[0m \u001b[0;36m1\u001b[0m\u001b[0;34m\u001b[0m\u001b[0;34m\u001b[0m\u001b[0m\n\u001b[1;32m    145\u001b[0m             \u001b[0mself\u001b[0m\u001b[0;34m.\u001b[0m\u001b[0mnot_empty\u001b[0m\u001b[0;34m.\u001b[0m\u001b[0mnotify\u001b[0m\u001b[0;34m(\u001b[0m\u001b[0;34m)\u001b[0m\u001b[0;34m\u001b[0m\u001b[0;34m\u001b[0m\u001b[0m\n",
            "\u001b[0;32m/usr/lib/python3.6/queue.py\u001b[0m in \u001b[0;36m_put\u001b[0;34m(self, item)\u001b[0m\n\u001b[1;32m    225\u001b[0m \u001b[0;34m\u001b[0m\u001b[0m\n\u001b[1;32m    226\u001b[0m     \u001b[0;32mdef\u001b[0m \u001b[0m_put\u001b[0m\u001b[0;34m(\u001b[0m\u001b[0mself\u001b[0m\u001b[0;34m,\u001b[0m \u001b[0mitem\u001b[0m\u001b[0;34m)\u001b[0m\u001b[0;34m:\u001b[0m\u001b[0;34m\u001b[0m\u001b[0;34m\u001b[0m\u001b[0m\n\u001b[0;32m--> 227\u001b[0;31m         \u001b[0mheappush\u001b[0m\u001b[0;34m(\u001b[0m\u001b[0mself\u001b[0m\u001b[0;34m.\u001b[0m\u001b[0mqueue\u001b[0m\u001b[0;34m,\u001b[0m \u001b[0mitem\u001b[0m\u001b[0;34m)\u001b[0m\u001b[0;34m\u001b[0m\u001b[0;34m\u001b[0m\u001b[0m\n\u001b[0m\u001b[1;32m    228\u001b[0m \u001b[0;34m\u001b[0m\u001b[0m\n\u001b[1;32m    229\u001b[0m     \u001b[0;32mdef\u001b[0m \u001b[0m_get\u001b[0m\u001b[0;34m(\u001b[0m\u001b[0mself\u001b[0m\u001b[0;34m)\u001b[0m\u001b[0;34m:\u001b[0m\u001b[0;34m\u001b[0m\u001b[0;34m\u001b[0m\u001b[0m\n",
            "\u001b[0;31mTypeError\u001b[0m: '<' not supported between instances of 'gridObj' and 'gridObj'"
          ]
        }
      ]
    }
  ]
}